{
 "cells": [
  {
   "cell_type": "markdown",
   "id": "54fa6fdc",
   "metadata": {},
   "source": [
    "## Kaggle Competition - Spaceship Titanic"
   ]
  },
  {
   "cell_type": "markdown",
   "id": "f7f8aacb",
   "metadata": {},
   "source": [
    "### Objetivo realizar a predição para o Spaceship Titanic\n",
    "\n",
    "\n",
    "Bem-vindo ao ano de 2912, onde suas habilidades em ciência de dados são requeridas para desvendar um mistério cósmico. Uma transmissão proveniente de quatro anos-luz de distância chegou até nós, e os indícios não são nada promissores.\n",
    "\n",
    "Há apenas um mês, a nave estelar Titanic partiu em sua viagem inaugural como um transatlântico interplanetário. Carregando cerca de 13.000 passageiros, sua missão era levar emigrantes do nosso sistema solar para três exoplanetas recentemente habitáveis que orbitavam estrelas próximas.\n",
    "\n",
    "Enquanto passava por Alpha Centauri, a caminho do primeiro destino, o escaldante 55 Cancri E, a espaçonave Titanic se deparou com uma anomalia no espaço-tempo, oculta dentro de uma nebulosa de poeira. Infelizmente, enfrentou um destino semelhante ao de sua contraparte histórica, que ocorreu mil anos atrás. Embora a embarcação tenha permanecido intacta, quase metade dos passageiros foi transportada para uma dimensão alternativa!\n",
    "\n",
    "Sua missão é apoiar as equipes de resgate na recuperação dos passageiros desaparecidos. Para alcançar esse objetivo, você enfrenta o desafio de prever quais passageiros foram afetados pela anomalia, com base nos registros recuperados do sistema de computador danificado da espaçonave.\n",
    "\n",
    "Sua contribuição é vital para resgatar esses passageiros e influenciar positivamente o curso da história."
   ]
  },
  {
   "cell_type": "markdown",
   "id": "a919baa6",
   "metadata": {},
   "source": [
    "### Importe de bibliotecas"
   ]
  },
  {
   "cell_type": "code",
   "execution_count": 1,
   "id": "27a9b12c-7325-4586-848d-4890fd5d0c18",
   "metadata": {},
   "outputs": [],
   "source": [
    "import pandas as pd\n",
    "import matplotlib.pyplot as plt\n",
    "import seaborn as sns\n",
    "from sklearn.preprocessing import OrdinalEncoder\n",
    "from sklearn.preprocessing import StandardScaler\n",
    "from sklearn.model_selection import train_test_split\n",
    "from sklearn.neighbors import KNeighborsClassifier\n",
    "from sklearn.metrics import accuracy_score\n",
    "from sklearn.naive_bayes import BernoulliNB\n",
    "from sklearn.tree import DecisionTreeClassifier\n",
    "from sklearn.svm import SVC\n",
    "from sklearn.ensemble import RandomForestClassifier\n",
    "\n",
    "\n",
    "import warnings\n",
    "warnings.filterwarnings(\"ignore\")\n"
   ]
  },
  {
   "cell_type": "markdown",
   "id": "aefe0a42-5163-433d-8756-eadad57c19a3",
   "metadata": {},
   "source": [
    "### Leitura dos dados"
   ]
  },
  {
   "cell_type": "code",
   "execution_count": 2,
   "id": "b3ea617a-122a-4c06-b337-805c1e867872",
   "metadata": {},
   "outputs": [
    {
     "data": {
      "text/html": [
       "<div>\n",
       "<style scoped>\n",
       "    .dataframe tbody tr th:only-of-type {\n",
       "        vertical-align: middle;\n",
       "    }\n",
       "\n",
       "    .dataframe tbody tr th {\n",
       "        vertical-align: top;\n",
       "    }\n",
       "\n",
       "    .dataframe thead th {\n",
       "        text-align: right;\n",
       "    }\n",
       "</style>\n",
       "<table border=\"1\" class=\"dataframe\">\n",
       "  <thead>\n",
       "    <tr style=\"text-align: right;\">\n",
       "      <th></th>\n",
       "      <th>PassengerId</th>\n",
       "      <th>HomePlanet</th>\n",
       "      <th>CryoSleep</th>\n",
       "      <th>Cabin</th>\n",
       "      <th>Destination</th>\n",
       "      <th>Age</th>\n",
       "      <th>VIP</th>\n",
       "      <th>RoomService</th>\n",
       "      <th>FoodCourt</th>\n",
       "      <th>ShoppingMall</th>\n",
       "      <th>Spa</th>\n",
       "      <th>VRDeck</th>\n",
       "      <th>Name</th>\n",
       "      <th>Transported</th>\n",
       "    </tr>\n",
       "  </thead>\n",
       "  <tbody>\n",
       "    <tr>\n",
       "      <th>0</th>\n",
       "      <td>0001_01</td>\n",
       "      <td>Europa</td>\n",
       "      <td>False</td>\n",
       "      <td>B/0/P</td>\n",
       "      <td>TRAPPIST-1e</td>\n",
       "      <td>39.0</td>\n",
       "      <td>False</td>\n",
       "      <td>0.0</td>\n",
       "      <td>0.0</td>\n",
       "      <td>0.0</td>\n",
       "      <td>0.0</td>\n",
       "      <td>0.0</td>\n",
       "      <td>Maham Ofracculy</td>\n",
       "      <td>False</td>\n",
       "    </tr>\n",
       "    <tr>\n",
       "      <th>1</th>\n",
       "      <td>0002_01</td>\n",
       "      <td>Earth</td>\n",
       "      <td>False</td>\n",
       "      <td>F/0/S</td>\n",
       "      <td>TRAPPIST-1e</td>\n",
       "      <td>24.0</td>\n",
       "      <td>False</td>\n",
       "      <td>109.0</td>\n",
       "      <td>9.0</td>\n",
       "      <td>25.0</td>\n",
       "      <td>549.0</td>\n",
       "      <td>44.0</td>\n",
       "      <td>Juanna Vines</td>\n",
       "      <td>True</td>\n",
       "    </tr>\n",
       "    <tr>\n",
       "      <th>2</th>\n",
       "      <td>0003_01</td>\n",
       "      <td>Europa</td>\n",
       "      <td>False</td>\n",
       "      <td>A/0/S</td>\n",
       "      <td>TRAPPIST-1e</td>\n",
       "      <td>58.0</td>\n",
       "      <td>True</td>\n",
       "      <td>43.0</td>\n",
       "      <td>3576.0</td>\n",
       "      <td>0.0</td>\n",
       "      <td>6715.0</td>\n",
       "      <td>49.0</td>\n",
       "      <td>Altark Susent</td>\n",
       "      <td>False</td>\n",
       "    </tr>\n",
       "    <tr>\n",
       "      <th>3</th>\n",
       "      <td>0003_02</td>\n",
       "      <td>Europa</td>\n",
       "      <td>False</td>\n",
       "      <td>A/0/S</td>\n",
       "      <td>TRAPPIST-1e</td>\n",
       "      <td>33.0</td>\n",
       "      <td>False</td>\n",
       "      <td>0.0</td>\n",
       "      <td>1283.0</td>\n",
       "      <td>371.0</td>\n",
       "      <td>3329.0</td>\n",
       "      <td>193.0</td>\n",
       "      <td>Solam Susent</td>\n",
       "      <td>False</td>\n",
       "    </tr>\n",
       "    <tr>\n",
       "      <th>4</th>\n",
       "      <td>0004_01</td>\n",
       "      <td>Earth</td>\n",
       "      <td>False</td>\n",
       "      <td>F/1/S</td>\n",
       "      <td>TRAPPIST-1e</td>\n",
       "      <td>16.0</td>\n",
       "      <td>False</td>\n",
       "      <td>303.0</td>\n",
       "      <td>70.0</td>\n",
       "      <td>151.0</td>\n",
       "      <td>565.0</td>\n",
       "      <td>2.0</td>\n",
       "      <td>Willy Santantines</td>\n",
       "      <td>True</td>\n",
       "    </tr>\n",
       "  </tbody>\n",
       "</table>\n",
       "</div>"
      ],
      "text/plain": [
       "  PassengerId HomePlanet CryoSleep  Cabin  Destination   Age    VIP  \\\n",
       "0     0001_01     Europa     False  B/0/P  TRAPPIST-1e  39.0  False   \n",
       "1     0002_01      Earth     False  F/0/S  TRAPPIST-1e  24.0  False   \n",
       "2     0003_01     Europa     False  A/0/S  TRAPPIST-1e  58.0   True   \n",
       "3     0003_02     Europa     False  A/0/S  TRAPPIST-1e  33.0  False   \n",
       "4     0004_01      Earth     False  F/1/S  TRAPPIST-1e  16.0  False   \n",
       "\n",
       "   RoomService  FoodCourt  ShoppingMall     Spa  VRDeck               Name  \\\n",
       "0          0.0        0.0           0.0     0.0     0.0    Maham Ofracculy   \n",
       "1        109.0        9.0          25.0   549.0    44.0       Juanna Vines   \n",
       "2         43.0     3576.0           0.0  6715.0    49.0      Altark Susent   \n",
       "3          0.0     1283.0         371.0  3329.0   193.0       Solam Susent   \n",
       "4        303.0       70.0         151.0   565.0     2.0  Willy Santantines   \n",
       "\n",
       "   Transported  \n",
       "0        False  \n",
       "1         True  \n",
       "2        False  \n",
       "3        False  \n",
       "4         True  "
      ]
     },
     "execution_count": 2,
     "metadata": {},
     "output_type": "execute_result"
    }
   ],
   "source": [
    "data = pd.read_csv('train.csv')\n",
    "test = pd.read_csv('test.csv')\n",
    "data.head()"
   ]
  },
  {
   "cell_type": "markdown",
   "id": "fdaf631e",
   "metadata": {},
   "source": [
    "### Parte 1 - Processando os Dados"
   ]
  },
  {
   "cell_type": "code",
   "execution_count": 3,
   "id": "361db4ea-d6b6-4b66-9424-51752146557a",
   "metadata": {},
   "outputs": [
    {
     "data": {
      "text/html": [
       "<div>\n",
       "<style scoped>\n",
       "    .dataframe tbody tr th:only-of-type {\n",
       "        vertical-align: middle;\n",
       "    }\n",
       "\n",
       "    .dataframe tbody tr th {\n",
       "        vertical-align: top;\n",
       "    }\n",
       "\n",
       "    .dataframe thead th {\n",
       "        text-align: right;\n",
       "    }\n",
       "</style>\n",
       "<table border=\"1\" class=\"dataframe\">\n",
       "  <thead>\n",
       "    <tr style=\"text-align: right;\">\n",
       "      <th></th>\n",
       "      <th>IdPassageiro</th>\n",
       "      <th>Planeta_Casa</th>\n",
       "      <th>Camara_Dormir</th>\n",
       "      <th>Cabine</th>\n",
       "      <th>Destino</th>\n",
       "      <th>Idade</th>\n",
       "      <th>VIP</th>\n",
       "      <th>Servico_Quarto</th>\n",
       "      <th>Alimentacao</th>\n",
       "      <th>Shopping</th>\n",
       "      <th>Spa</th>\n",
       "      <th>VRDeck</th>\n",
       "      <th>Nome</th>\n",
       "      <th>Transportado</th>\n",
       "    </tr>\n",
       "  </thead>\n",
       "  <tbody>\n",
       "    <tr>\n",
       "      <th>0</th>\n",
       "      <td>0001_01</td>\n",
       "      <td>Europa</td>\n",
       "      <td>False</td>\n",
       "      <td>B/0/P</td>\n",
       "      <td>TRAPPIST-1e</td>\n",
       "      <td>39.0</td>\n",
       "      <td>False</td>\n",
       "      <td>0.0</td>\n",
       "      <td>0.0</td>\n",
       "      <td>0.0</td>\n",
       "      <td>0.0</td>\n",
       "      <td>0.0</td>\n",
       "      <td>Maham Ofracculy</td>\n",
       "      <td>False</td>\n",
       "    </tr>\n",
       "    <tr>\n",
       "      <th>1</th>\n",
       "      <td>0002_01</td>\n",
       "      <td>Earth</td>\n",
       "      <td>False</td>\n",
       "      <td>F/0/S</td>\n",
       "      <td>TRAPPIST-1e</td>\n",
       "      <td>24.0</td>\n",
       "      <td>False</td>\n",
       "      <td>109.0</td>\n",
       "      <td>9.0</td>\n",
       "      <td>25.0</td>\n",
       "      <td>549.0</td>\n",
       "      <td>44.0</td>\n",
       "      <td>Juanna Vines</td>\n",
       "      <td>True</td>\n",
       "    </tr>\n",
       "    <tr>\n",
       "      <th>2</th>\n",
       "      <td>0003_01</td>\n",
       "      <td>Europa</td>\n",
       "      <td>False</td>\n",
       "      <td>A/0/S</td>\n",
       "      <td>TRAPPIST-1e</td>\n",
       "      <td>58.0</td>\n",
       "      <td>True</td>\n",
       "      <td>43.0</td>\n",
       "      <td>3576.0</td>\n",
       "      <td>0.0</td>\n",
       "      <td>6715.0</td>\n",
       "      <td>49.0</td>\n",
       "      <td>Altark Susent</td>\n",
       "      <td>False</td>\n",
       "    </tr>\n",
       "    <tr>\n",
       "      <th>3</th>\n",
       "      <td>0003_02</td>\n",
       "      <td>Europa</td>\n",
       "      <td>False</td>\n",
       "      <td>A/0/S</td>\n",
       "      <td>TRAPPIST-1e</td>\n",
       "      <td>33.0</td>\n",
       "      <td>False</td>\n",
       "      <td>0.0</td>\n",
       "      <td>1283.0</td>\n",
       "      <td>371.0</td>\n",
       "      <td>3329.0</td>\n",
       "      <td>193.0</td>\n",
       "      <td>Solam Susent</td>\n",
       "      <td>False</td>\n",
       "    </tr>\n",
       "    <tr>\n",
       "      <th>4</th>\n",
       "      <td>0004_01</td>\n",
       "      <td>Earth</td>\n",
       "      <td>False</td>\n",
       "      <td>F/1/S</td>\n",
       "      <td>TRAPPIST-1e</td>\n",
       "      <td>16.0</td>\n",
       "      <td>False</td>\n",
       "      <td>303.0</td>\n",
       "      <td>70.0</td>\n",
       "      <td>151.0</td>\n",
       "      <td>565.0</td>\n",
       "      <td>2.0</td>\n",
       "      <td>Willy Santantines</td>\n",
       "      <td>True</td>\n",
       "    </tr>\n",
       "  </tbody>\n",
       "</table>\n",
       "</div>"
      ],
      "text/plain": [
       "  IdPassageiro Planeta_Casa Camara_Dormir Cabine      Destino  Idade    VIP  \\\n",
       "0      0001_01       Europa         False  B/0/P  TRAPPIST-1e   39.0  False   \n",
       "1      0002_01        Earth         False  F/0/S  TRAPPIST-1e   24.0  False   \n",
       "2      0003_01       Europa         False  A/0/S  TRAPPIST-1e   58.0   True   \n",
       "3      0003_02       Europa         False  A/0/S  TRAPPIST-1e   33.0  False   \n",
       "4      0004_01        Earth         False  F/1/S  TRAPPIST-1e   16.0  False   \n",
       "\n",
       "   Servico_Quarto  Alimentacao  Shopping     Spa  VRDeck               Nome  \\\n",
       "0             0.0          0.0       0.0     0.0     0.0    Maham Ofracculy   \n",
       "1           109.0          9.0      25.0   549.0    44.0       Juanna Vines   \n",
       "2            43.0       3576.0       0.0  6715.0    49.0      Altark Susent   \n",
       "3             0.0       1283.0     371.0  3329.0   193.0       Solam Susent   \n",
       "4           303.0         70.0     151.0   565.0     2.0  Willy Santantines   \n",
       "\n",
       "   Transportado  \n",
       "0         False  \n",
       "1          True  \n",
       "2         False  \n",
       "3         False  \n",
       "4          True  "
      ]
     },
     "execution_count": 3,
     "metadata": {},
     "output_type": "execute_result"
    }
   ],
   "source": [
    "renomear = {'PassengerId':'IdPassageiro', 'HomePlanet':'Planeta_Casa', 'CryoSleep': 'Camara_Dormir', \n",
    "            'Cabin': 'Cabine', 'Destination': 'Destino', 'Age': 'Idade', 'VIP': 'VIP', 'RoomService': 'Servico_Quarto', \n",
    "            'FoodCourt':'Alimentacao', 'ShoppingMall':'Shopping', 'Spa': 'Spa', 'VRDeck': 'VRDeck', 'Name' :'Nome', \n",
    "            'Transported': 'Transportado'}\n",
    "data = data.rename(columns = renomear)\n",
    "data.head()"
   ]
  },
  {
   "cell_type": "code",
   "execution_count": 4,
   "id": "65321dd5",
   "metadata": {},
   "outputs": [],
   "source": [
    "data = data.drop(columns ='Nome',axis= 1)"
   ]
  },
  {
   "cell_type": "code",
   "execution_count": 5,
   "id": "b4e4d71d",
   "metadata": {},
   "outputs": [],
   "source": [
    "data['Camara_Dormir'] = data['Camara_Dormir'].astype(bool)\n",
    "data['VIP'] = data['VIP'].astype(bool)\n",
    "data['Transportado'] = data['Transportado'].astype(bool)"
   ]
  },
  {
   "cell_type": "code",
   "execution_count": 6,
   "id": "f1756f05",
   "metadata": {},
   "outputs": [
    {
     "data": {
      "text/plain": [
       "IdPassageiro       object\n",
       "Planeta_Casa       object\n",
       "Camara_Dormir        bool\n",
       "Cabine             object\n",
       "Destino            object\n",
       "Idade             float64\n",
       "VIP                  bool\n",
       "Servico_Quarto    float64\n",
       "Alimentacao       float64\n",
       "Shopping          float64\n",
       "Spa               float64\n",
       "VRDeck            float64\n",
       "Transportado         bool\n",
       "dtype: object"
      ]
     },
     "execution_count": 6,
     "metadata": {},
     "output_type": "execute_result"
    }
   ],
   "source": [
    "data.dtypes"
   ]
  },
  {
   "cell_type": "code",
   "execution_count": 7,
   "id": "ba7763d4-db72-4083-80ad-4c5c369107c1",
   "metadata": {},
   "outputs": [
    {
     "name": "stdout",
     "output_type": "stream",
     "text": [
      "<class 'pandas.core.frame.DataFrame'>\n",
      "RangeIndex: 8693 entries, 0 to 8692\n",
      "Data columns (total 13 columns):\n",
      " #   Column          Non-Null Count  Dtype  \n",
      "---  ------          --------------  -----  \n",
      " 0   IdPassageiro    8693 non-null   object \n",
      " 1   Planeta_Casa    8492 non-null   object \n",
      " 2   Camara_Dormir   8693 non-null   bool   \n",
      " 3   Cabine          8494 non-null   object \n",
      " 4   Destino         8511 non-null   object \n",
      " 5   Idade           8514 non-null   float64\n",
      " 6   VIP             8693 non-null   bool   \n",
      " 7   Servico_Quarto  8512 non-null   float64\n",
      " 8   Alimentacao     8510 non-null   float64\n",
      " 9   Shopping        8485 non-null   float64\n",
      " 10  Spa             8510 non-null   float64\n",
      " 11  VRDeck          8505 non-null   float64\n",
      " 12  Transportado    8693 non-null   bool   \n",
      "dtypes: bool(3), float64(6), object(4)\n",
      "memory usage: 704.7+ KB\n"
     ]
    }
   ],
   "source": [
    "data.info()"
   ]
  },
  {
   "cell_type": "code",
   "execution_count": 8,
   "id": "95f87053-23d9-4b51-ba54-3e157ac1d32e",
   "metadata": {},
   "outputs": [
    {
     "data": {
      "text/plain": [
       "IdPassageiro        0\n",
       "Planeta_Casa      201\n",
       "Camara_Dormir       0\n",
       "Cabine            199\n",
       "Destino           182\n",
       "Idade             179\n",
       "VIP                 0\n",
       "Servico_Quarto    181\n",
       "Alimentacao       183\n",
       "Shopping          208\n",
       "Spa               183\n",
       "VRDeck            188\n",
       "Transportado        0\n",
       "dtype: int64"
      ]
     },
     "execution_count": 8,
     "metadata": {},
     "output_type": "execute_result"
    }
   ],
   "source": [
    "data.isna().sum()"
   ]
  },
  {
   "cell_type": "code",
   "execution_count": 9,
   "id": "3710b4ff-ce07-4ca3-afef-6a1b4861ecbc",
   "metadata": {},
   "outputs": [
    {
     "data": {
      "text/plain": [
       "0"
      ]
     },
     "execution_count": 9,
     "metadata": {},
     "output_type": "execute_result"
    }
   ],
   "source": [
    "data.duplicated().sum()"
   ]
  },
  {
   "cell_type": "code",
   "execution_count": 10,
   "id": "090e3170",
   "metadata": {},
   "outputs": [
    {
     "name": "stdout",
     "output_type": "stream",
     "text": [
      "['Europa' 'Earth' 'Mars' nan]\n",
      "['TRAPPIST-1e' 'PSO J318.5-22' '55 Cancri e' nan]\n"
     ]
    }
   ],
   "source": [
    "# verificando valore únicos \n",
    "print(data['Planeta_Casa'].unique())\n",
    "print(data['Destino'].unique())"
   ]
  },
  {
   "cell_type": "markdown",
   "id": "a011d7b0",
   "metadata": {},
   "source": [
    "### Tratando Valores Ausentes"
   ]
  },
  {
   "cell_type": "code",
   "execution_count": 11,
   "id": "ab0116ef",
   "metadata": {},
   "outputs": [],
   "source": [
    "moda_planeta_casa = data['Planeta_Casa'].mode()[0]\n",
    "moda_destino = data['Destino'].mode()[0]\n",
    "media_idade = data['Idade'].mean()\n",
    "mediana_idade = data['Idade'].mean()\n",
    "mediana_Servico_Quarto = data['Servico_Quarto'].median()\n",
    "mediana_Alimentacao = data['Alimentacao'].median()\n",
    "mediana_Shopping = data['Shopping'].median()\n",
    "mediana_Spa = data['Spa'].median()\n",
    "mediana_VRDeck = data['VRDeck'].median()\n",
    "data['Planeta_Casa'].fillna(moda_planeta_casa, inplace=True)\n",
    "data['Destino'].fillna(moda_planeta_casa, inplace=True)\n",
    "data['Idade'].fillna(media_idade, inplace=True)\n",
    "data['Servico_Quarto'].fillna(mediana_Servico_Quarto, inplace=True)\n",
    "data['Alimentacao'].fillna(mediana_Alimentacao, inplace=True)\n",
    "data['Shopping'].fillna(mediana_Shopping, inplace=True)\n",
    "data['Spa'].fillna(mediana_Spa, inplace=True)\n",
    "data['VRDeck'].fillna(mediana_VRDeck, inplace=True)"
   ]
  },
  {
   "cell_type": "code",
   "execution_count": 12,
   "id": "bd00179c",
   "metadata": {},
   "outputs": [
    {
     "data": {
      "text/plain": [
       "0"
      ]
     },
     "execution_count": 12,
     "metadata": {},
     "output_type": "execute_result"
    }
   ],
   "source": [
    "data['Destino'].isna().sum()"
   ]
  },
  {
   "cell_type": "code",
   "execution_count": 13,
   "id": "52ef188c",
   "metadata": {},
   "outputs": [
    {
     "data": {
      "text/plain": [
       "IdPassageiro    8693\n",
       "Planeta_Casa       3\n",
       "Cabine          6560\n",
       "Destino            4\n",
       "dtype: int64"
      ]
     },
     "execution_count": 13,
     "metadata": {},
     "output_type": "execute_result"
    }
   ],
   "source": [
    "# Verificando fetures categóticas\n",
    "data.select_dtypes(include='object').nunique()"
   ]
  },
  {
   "cell_type": "code",
   "execution_count": 14,
   "id": "284c38a2",
   "metadata": {},
   "outputs": [],
   "source": [
    "data = data.drop(columns =['IdPassageiro','Cabine'], axis=1)"
   ]
  },
  {
   "cell_type": "code",
   "execution_count": 15,
   "id": "25c37ea0",
   "metadata": {},
   "outputs": [
    {
     "data": {
      "text/html": [
       "<div>\n",
       "<style scoped>\n",
       "    .dataframe tbody tr th:only-of-type {\n",
       "        vertical-align: middle;\n",
       "    }\n",
       "\n",
       "    .dataframe tbody tr th {\n",
       "        vertical-align: top;\n",
       "    }\n",
       "\n",
       "    .dataframe thead th {\n",
       "        text-align: right;\n",
       "    }\n",
       "</style>\n",
       "<table border=\"1\" class=\"dataframe\">\n",
       "  <thead>\n",
       "    <tr style=\"text-align: right;\">\n",
       "      <th></th>\n",
       "      <th>Planeta_Casa</th>\n",
       "      <th>Camara_Dormir</th>\n",
       "      <th>Destino</th>\n",
       "      <th>Idade</th>\n",
       "      <th>VIP</th>\n",
       "      <th>Servico_Quarto</th>\n",
       "      <th>Alimentacao</th>\n",
       "      <th>Shopping</th>\n",
       "      <th>Spa</th>\n",
       "      <th>VRDeck</th>\n",
       "      <th>Transportado</th>\n",
       "    </tr>\n",
       "  </thead>\n",
       "  <tbody>\n",
       "    <tr>\n",
       "      <th>0</th>\n",
       "      <td>Europa</td>\n",
       "      <td>False</td>\n",
       "      <td>TRAPPIST-1e</td>\n",
       "      <td>39.0</td>\n",
       "      <td>False</td>\n",
       "      <td>0.0</td>\n",
       "      <td>0.0</td>\n",
       "      <td>0.0</td>\n",
       "      <td>0.0</td>\n",
       "      <td>0.0</td>\n",
       "      <td>False</td>\n",
       "    </tr>\n",
       "    <tr>\n",
       "      <th>1</th>\n",
       "      <td>Earth</td>\n",
       "      <td>False</td>\n",
       "      <td>TRAPPIST-1e</td>\n",
       "      <td>24.0</td>\n",
       "      <td>False</td>\n",
       "      <td>109.0</td>\n",
       "      <td>9.0</td>\n",
       "      <td>25.0</td>\n",
       "      <td>549.0</td>\n",
       "      <td>44.0</td>\n",
       "      <td>True</td>\n",
       "    </tr>\n",
       "    <tr>\n",
       "      <th>2</th>\n",
       "      <td>Europa</td>\n",
       "      <td>False</td>\n",
       "      <td>TRAPPIST-1e</td>\n",
       "      <td>58.0</td>\n",
       "      <td>True</td>\n",
       "      <td>43.0</td>\n",
       "      <td>3576.0</td>\n",
       "      <td>0.0</td>\n",
       "      <td>6715.0</td>\n",
       "      <td>49.0</td>\n",
       "      <td>False</td>\n",
       "    </tr>\n",
       "  </tbody>\n",
       "</table>\n",
       "</div>"
      ],
      "text/plain": [
       "  Planeta_Casa  Camara_Dormir      Destino  Idade    VIP  Servico_Quarto  \\\n",
       "0       Europa          False  TRAPPIST-1e   39.0  False             0.0   \n",
       "1        Earth          False  TRAPPIST-1e   24.0  False           109.0   \n",
       "2       Europa          False  TRAPPIST-1e   58.0   True            43.0   \n",
       "\n",
       "   Alimentacao  Shopping     Spa  VRDeck  Transportado  \n",
       "0          0.0       0.0     0.0     0.0         False  \n",
       "1          9.0      25.0   549.0    44.0          True  \n",
       "2       3576.0       0.0  6715.0    49.0         False  "
      ]
     },
     "execution_count": 15,
     "metadata": {},
     "output_type": "execute_result"
    }
   ],
   "source": [
    "data.head(3)"
   ]
  },
  {
   "cell_type": "markdown",
   "id": "16e0226a",
   "metadata": {},
   "source": [
    "#### Conclusão Intermediária\n",
    "\n",
    "Durante esta fase inicial de pré-processamento dos dados, executei várias ações importantes. Inicialmente, revisei os tipos de dados presentes no conjunto de dados, tratei valores ausentes e eliminei possíveis duplicações. Além disso, renomeei variáveis para tornar sua identificação mais clara e removi características que não desempenharão um papel significativo na modelagem dos dados. Essas ações cumulativas nos permitiram preparar os dados de maneira mais apropriada, o que, por sua vez, facilitará uma análise mais precisa e aprofundada."
   ]
  },
  {
   "cell_type": "markdown",
   "id": "64933b15",
   "metadata": {},
   "source": [
    "### Análise Exploratória dos Dados"
   ]
  },
  {
   "cell_type": "code",
   "execution_count": 16,
   "id": "d9a90800",
   "metadata": {},
   "outputs": [
    {
     "data": {
      "image/png": "[encoded data removed]",
      "text/plain": [
       "<Figure size 800x500 with 2 Axes>"
      ]
     },
     "metadata": {},
     "output_type": "display_data"
    }
   ],
   "source": [
    "var_cat = ['Planeta_Casa','Destino']\n",
    "\n",
    "# gerando a figura do gráfico\n",
    "fig, axs = plt.subplots(nrows=1, ncols=2, figsize=(8, 5))\n",
    "axs = axs.flatten()\n",
    "\n",
    "# gerando grafico de barras\n",
    "for i, var in enumerate(var_cat):\n",
    "    sns.countplot(x=var, hue='Transportado', data=data, ax=axs[i])\n",
    "    axs[i].set_xticklabels(axs[i].get_xticklabels(), rotation=90)\n",
    "    \n",
    "# ajuste dos espaços entre os graficos\n",
    "fig.tight_layout()\n",
    "plt.show()"
   ]
  },
  {
   "cell_type": "markdown",
   "id": "cbe63781",
   "metadata": {},
   "source": [
    "O gráfico acima evidencia que o maior volume de passageiros transportados origina-se da Terra e tem TRAPPIST-1e como destino. Para obter insights mais detalhados, iremos segmentar esse grupo e realizar uma análise mais aprofundada dos dados."
   ]
  },
  {
   "cell_type": "code",
   "execution_count": 17,
   "id": "563db659",
   "metadata": {},
   "outputs": [
    {
     "data": {
      "text/html": [
       "<div>\n",
       "<style scoped>\n",
       "    .dataframe tbody tr th:only-of-type {\n",
       "        vertical-align: middle;\n",
       "    }\n",
       "\n",
       "    .dataframe tbody tr th {\n",
       "        vertical-align: top;\n",
       "    }\n",
       "\n",
       "    .dataframe thead th {\n",
       "        text-align: right;\n",
       "    }\n",
       "</style>\n",
       "<table border=\"1\" class=\"dataframe\">\n",
       "  <thead>\n",
       "    <tr style=\"text-align: right;\">\n",
       "      <th></th>\n",
       "      <th>Camara_Dormir</th>\n",
       "      <th>Idade</th>\n",
       "      <th>VIP</th>\n",
       "      <th>Servico_Quarto</th>\n",
       "      <th>Alimentacao</th>\n",
       "      <th>Shopping</th>\n",
       "      <th>Spa</th>\n",
       "      <th>VRDeck</th>\n",
       "      <th>Transportado</th>\n",
       "    </tr>\n",
       "    <tr>\n",
       "      <th>Planeta_Casa</th>\n",
       "      <th></th>\n",
       "      <th></th>\n",
       "      <th></th>\n",
       "      <th></th>\n",
       "      <th></th>\n",
       "      <th></th>\n",
       "      <th></th>\n",
       "      <th></th>\n",
       "      <th></th>\n",
       "    </tr>\n",
       "  </thead>\n",
       "  <tbody>\n",
       "    <tr>\n",
       "      <th>Earth</th>\n",
       "      <td>0.290065</td>\n",
       "      <td>26.622924</td>\n",
       "      <td>0.022762</td>\n",
       "      <td>148.786220</td>\n",
       "      <td>148.488773</td>\n",
       "      <td>139.823439</td>\n",
       "      <td>156.661950</td>\n",
       "      <td>151.478622</td>\n",
       "      <td>0.392802</td>\n",
       "    </tr>\n",
       "    <tr>\n",
       "      <th>Europa</th>\n",
       "      <td>0.402019</td>\n",
       "      <td>34.309829</td>\n",
       "      <td>0.068966</td>\n",
       "      <td>147.058032</td>\n",
       "      <td>1360.264087</td>\n",
       "      <td>168.376787</td>\n",
       "      <td>820.910008</td>\n",
       "      <td>833.390244</td>\n",
       "      <td>0.634987</td>\n",
       "    </tr>\n",
       "    <tr>\n",
       "      <th>Mars</th>\n",
       "      <td>0.404068</td>\n",
       "      <td>29.228109</td>\n",
       "      <td>0.062373</td>\n",
       "      <td>545.945763</td>\n",
       "      <td>52.094237</td>\n",
       "      <td>290.438644</td>\n",
       "      <td>107.718644</td>\n",
       "      <td>43.897627</td>\n",
       "      <td>0.511864</td>\n",
       "    </tr>\n",
       "  </tbody>\n",
       "</table>\n",
       "</div>"
      ],
      "text/plain": [
       "              Camara_Dormir      Idade       VIP  Servico_Quarto  Alimentacao  \\\n",
       "Planeta_Casa                                                                    \n",
       "Earth              0.290065  26.622924  0.022762      148.786220   148.488773   \n",
       "Europa             0.402019  34.309829  0.068966      147.058032  1360.264087   \n",
       "Mars               0.404068  29.228109  0.062373      545.945763    52.094237   \n",
       "\n",
       "                Shopping         Spa      VRDeck  Transportado  \n",
       "Planeta_Casa                                                    \n",
       "Earth         139.823439  156.661950  151.478622      0.392802  \n",
       "Europa        168.376787  820.910008  833.390244      0.634987  \n",
       "Mars          290.438644  107.718644   43.897627      0.511864  "
      ]
     },
     "execution_count": 17,
     "metadata": {},
     "output_type": "execute_result"
    }
   ],
   "source": [
    "# Filtrar e agrupar os dados por 'Planeta_Casa' e 'Destino'\n",
    "grouped_data = data[data['Destino'] == 'TRAPPIST-1e'].groupby('Planeta_Casa').mean()\n",
    "\n",
    "# Exibir os dados agrupados\n",
    "grouped_data"
   ]
  },
  {
   "cell_type": "code",
   "execution_count": 18,
   "id": "0f2d30f7",
   "metadata": {},
   "outputs": [
    {
     "data": {
      "image/png": "[encoded data removed]",
      "text/plain": [
       "<Figure size 640x480 with 1 Axes>"
      ]
     },
     "metadata": {},
     "output_type": "display_data"
    }
   ],
   "source": [
    "grouped_data['Transportado'].plot(kind='bar');"
   ]
  },
  {
   "cell_type": "markdown",
   "id": "cb9e41bd",
   "metadata": {},
   "source": [
    "Ao examinarmos os dados com foco no destino 'TRAPPIST-1e', observamos que a região com o maior média de passageiros transportados também apresenta um volume significativo de indivíduos provenientes dos planetas Europa e Marte. Isso sugere uma correlação entre a origem desses passageiros e o destino selecionado, destacando a influência desses dois planetas na demanda de viagens para TRAPPIST-1e."
   ]
  },
  {
   "cell_type": "code",
   "execution_count": 19,
   "id": "94ecf8c1",
   "metadata": {},
   "outputs": [
    {
     "data": {
      "text/html": [
       "<div>\n",
       "<style scoped>\n",
       "    .dataframe tbody tr th:only-of-type {\n",
       "        vertical-align: middle;\n",
       "    }\n",
       "\n",
       "    .dataframe tbody tr th {\n",
       "        vertical-align: top;\n",
       "    }\n",
       "\n",
       "    .dataframe thead th {\n",
       "        text-align: right;\n",
       "    }\n",
       "</style>\n",
       "<table border=\"1\" class=\"dataframe\">\n",
       "  <thead>\n",
       "    <tr style=\"text-align: right;\">\n",
       "      <th></th>\n",
       "      <th>Alimentacao</th>\n",
       "      <th>Camara_Dormir</th>\n",
       "      <th>Servico_Quarto</th>\n",
       "      <th>Shopping</th>\n",
       "      <th>Spa</th>\n",
       "      <th>Transportado</th>\n",
       "      <th>VIP</th>\n",
       "      <th>VRDeck</th>\n",
       "    </tr>\n",
       "  </thead>\n",
       "  <tbody>\n",
       "    <tr>\n",
       "      <th>Alimentacao</th>\n",
       "      <td>1.000000</td>\n",
       "      <td>0.763937</td>\n",
       "      <td>-0.534976</td>\n",
       "      <td>-0.471115</td>\n",
       "      <td>0.999941</td>\n",
       "      <td>0.888224</td>\n",
       "      <td>0.752008</td>\n",
       "      <td>0.998644</td>\n",
       "    </tr>\n",
       "    <tr>\n",
       "      <th>Camara_Dormir</th>\n",
       "      <td>0.763937</td>\n",
       "      <td>1.000000</td>\n",
       "      <td>0.136498</td>\n",
       "      <td>0.209291</td>\n",
       "      <td>0.770886</td>\n",
       "      <td>0.975000</td>\n",
       "      <td>0.999833</td>\n",
       "      <td>0.729313</td>\n",
       "    </tr>\n",
       "    <tr>\n",
       "      <th>Servico_Quarto</th>\n",
       "      <td>-0.534976</td>\n",
       "      <td>0.136498</td>\n",
       "      <td>1.000000</td>\n",
       "      <td>0.997269</td>\n",
       "      <td>-0.525787</td>\n",
       "      <td>-0.087037</td>\n",
       "      <td>0.154591</td>\n",
       "      <td>-0.578227</td>\n",
       "    </tr>\n",
       "    <tr>\n",
       "      <th>Shopping</th>\n",
       "      <td>-0.471115</td>\n",
       "      <td>0.209291</td>\n",
       "      <td>0.997269</td>\n",
       "      <td>1.000000</td>\n",
       "      <td>-0.461527</td>\n",
       "      <td>-0.013223</td>\n",
       "      <td>0.227138</td>\n",
       "      <td>-0.516390</td>\n",
       "    </tr>\n",
       "    <tr>\n",
       "      <th>Spa</th>\n",
       "      <td>0.999941</td>\n",
       "      <td>0.770886</td>\n",
       "      <td>-0.525787</td>\n",
       "      <td>-0.461527</td>\n",
       "      <td>1.000000</td>\n",
       "      <td>0.893151</td>\n",
       "      <td>0.759109</td>\n",
       "      <td>0.998022</td>\n",
       "    </tr>\n",
       "    <tr>\n",
       "      <th>Transportado</th>\n",
       "      <td>0.888224</td>\n",
       "      <td>0.975000</td>\n",
       "      <td>-0.087037</td>\n",
       "      <td>-0.013223</td>\n",
       "      <td>0.893151</td>\n",
       "      <td>1.000000</td>\n",
       "      <td>0.970774</td>\n",
       "      <td>0.863107</td>\n",
       "    </tr>\n",
       "    <tr>\n",
       "      <th>VIP</th>\n",
       "      <td>0.752008</td>\n",
       "      <td>0.999833</td>\n",
       "      <td>0.154591</td>\n",
       "      <td>0.227138</td>\n",
       "      <td>0.759109</td>\n",
       "      <td>0.970774</td>\n",
       "      <td>1.000000</td>\n",
       "      <td>0.716679</td>\n",
       "    </tr>\n",
       "    <tr>\n",
       "      <th>VRDeck</th>\n",
       "      <td>0.998644</td>\n",
       "      <td>0.729313</td>\n",
       "      <td>-0.578227</td>\n",
       "      <td>-0.516390</td>\n",
       "      <td>0.998022</td>\n",
       "      <td>0.863107</td>\n",
       "      <td>0.716679</td>\n",
       "      <td>1.000000</td>\n",
       "    </tr>\n",
       "  </tbody>\n",
       "</table>\n",
       "</div>"
      ],
      "text/plain": [
       "                Alimentacao  Camara_Dormir  Servico_Quarto  Shopping  \\\n",
       "Alimentacao        1.000000       0.763937       -0.534976 -0.471115   \n",
       "Camara_Dormir      0.763937       1.000000        0.136498  0.209291   \n",
       "Servico_Quarto    -0.534976       0.136498        1.000000  0.997269   \n",
       "Shopping          -0.471115       0.209291        0.997269  1.000000   \n",
       "Spa                0.999941       0.770886       -0.525787 -0.461527   \n",
       "Transportado       0.888224       0.975000       -0.087037 -0.013223   \n",
       "VIP                0.752008       0.999833        0.154591  0.227138   \n",
       "VRDeck             0.998644       0.729313       -0.578227 -0.516390   \n",
       "\n",
       "                     Spa  Transportado       VIP    VRDeck  \n",
       "Alimentacao     0.999941      0.888224  0.752008  0.998644  \n",
       "Camara_Dormir   0.770886      0.975000  0.999833  0.729313  \n",
       "Servico_Quarto -0.525787     -0.087037  0.154591 -0.578227  \n",
       "Shopping       -0.461527     -0.013223  0.227138 -0.516390  \n",
       "Spa             1.000000      0.893151  0.759109  0.998022  \n",
       "Transportado    0.893151      1.000000  0.970774  0.863107  \n",
       "VIP             0.759109      0.970774  1.000000  0.716679  \n",
       "VRDeck          0.998022      0.863107  0.716679  1.000000  "
      ]
     },
     "execution_count": 19,
     "metadata": {},
     "output_type": "execute_result"
    }
   ],
   "source": [
    "# Criar a tabela dinâmica\n",
    "pivot_table = pd.pivot_table(data, index=['Planeta_Casa'], values=['Camara_Dormir', 'VIP', 'Servico_Quarto', 'Alimentacao', 'Shopping', 'Spa', 'VRDeck', 'Transportado'], aggfunc='mean')\n",
    "pivot_table.corr()"
   ]
  },
  {
   "cell_type": "markdown",
   "id": "fe8d1a50",
   "metadata": {},
   "source": [
    "Até o momento não temos um padrão de alguma feature mais associativa em relação aos transportados, por exemplo, no caso de pessoas vips terem \"alguma vantagem\", e/ou \"SPA\" e demais tipos de consumo que possam associar a um padrão."
   ]
  },
  {
   "cell_type": "markdown",
   "id": "58872efa",
   "metadata": {},
   "source": [
    "### Pré- Processamento Dados"
   ]
  },
  {
   "cell_type": "code",
   "execution_count": 20,
   "id": "2ac182c9",
   "metadata": {},
   "outputs": [
    {
     "data": {
      "text/html": [
       "<div>\n",
       "<style scoped>\n",
       "    .dataframe tbody tr th:only-of-type {\n",
       "        vertical-align: middle;\n",
       "    }\n",
       "\n",
       "    .dataframe tbody tr th {\n",
       "        vertical-align: top;\n",
       "    }\n",
       "\n",
       "    .dataframe thead th {\n",
       "        text-align: right;\n",
       "    }\n",
       "</style>\n",
       "<table border=\"1\" class=\"dataframe\">\n",
       "  <thead>\n",
       "    <tr style=\"text-align: right;\">\n",
       "      <th></th>\n",
       "      <th>Planeta_Casa</th>\n",
       "      <th>Camara_Dormir</th>\n",
       "      <th>Destino</th>\n",
       "      <th>Idade</th>\n",
       "      <th>VIP</th>\n",
       "      <th>Servico_Quarto</th>\n",
       "      <th>Alimentacao</th>\n",
       "      <th>Shopping</th>\n",
       "      <th>Spa</th>\n",
       "      <th>VRDeck</th>\n",
       "      <th>Transportado</th>\n",
       "    </tr>\n",
       "  </thead>\n",
       "  <tbody>\n",
       "    <tr>\n",
       "      <th>0</th>\n",
       "      <td>1.0</td>\n",
       "      <td>0.0</td>\n",
       "      <td>3.0</td>\n",
       "      <td>40.0</td>\n",
       "      <td>0.0</td>\n",
       "      <td>0.0</td>\n",
       "      <td>0.0</td>\n",
       "      <td>0.0</td>\n",
       "      <td>0.0</td>\n",
       "      <td>0.0</td>\n",
       "      <td>0.0</td>\n",
       "    </tr>\n",
       "    <tr>\n",
       "      <th>1</th>\n",
       "      <td>0.0</td>\n",
       "      <td>0.0</td>\n",
       "      <td>3.0</td>\n",
       "      <td>24.0</td>\n",
       "      <td>0.0</td>\n",
       "      <td>109.0</td>\n",
       "      <td>9.0</td>\n",
       "      <td>25.0</td>\n",
       "      <td>456.0</td>\n",
       "      <td>44.0</td>\n",
       "      <td>1.0</td>\n",
       "    </tr>\n",
       "    <tr>\n",
       "      <th>2</th>\n",
       "      <td>1.0</td>\n",
       "      <td>0.0</td>\n",
       "      <td>3.0</td>\n",
       "      <td>59.0</td>\n",
       "      <td>1.0</td>\n",
       "      <td>43.0</td>\n",
       "      <td>1206.0</td>\n",
       "      <td>0.0</td>\n",
       "      <td>1273.0</td>\n",
       "      <td>49.0</td>\n",
       "      <td>0.0</td>\n",
       "    </tr>\n",
       "    <tr>\n",
       "      <th>3</th>\n",
       "      <td>1.0</td>\n",
       "      <td>0.0</td>\n",
       "      <td>3.0</td>\n",
       "      <td>34.0</td>\n",
       "      <td>0.0</td>\n",
       "      <td>0.0</td>\n",
       "      <td>806.0</td>\n",
       "      <td>332.0</td>\n",
       "      <td>1132.0</td>\n",
       "      <td>187.0</td>\n",
       "      <td>0.0</td>\n",
       "    </tr>\n",
       "    <tr>\n",
       "      <th>4</th>\n",
       "      <td>0.0</td>\n",
       "      <td>0.0</td>\n",
       "      <td>3.0</td>\n",
       "      <td>16.0</td>\n",
       "      <td>0.0</td>\n",
       "      <td>277.0</td>\n",
       "      <td>69.0</td>\n",
       "      <td>149.0</td>\n",
       "      <td>470.0</td>\n",
       "      <td>2.0</td>\n",
       "      <td>1.0</td>\n",
       "    </tr>\n",
       "  </tbody>\n",
       "</table>\n",
       "</div>"
      ],
      "text/plain": [
       "   Planeta_Casa  Camara_Dormir  Destino  Idade  VIP  Servico_Quarto  \\\n",
       "0           1.0            0.0      3.0   40.0  0.0             0.0   \n",
       "1           0.0            0.0      3.0   24.0  0.0           109.0   \n",
       "2           1.0            0.0      3.0   59.0  1.0            43.0   \n",
       "3           1.0            0.0      3.0   34.0  0.0             0.0   \n",
       "4           0.0            0.0      3.0   16.0  0.0           277.0   \n",
       "\n",
       "   Alimentacao  Shopping     Spa  VRDeck  Transportado  \n",
       "0          0.0       0.0     0.0     0.0           0.0  \n",
       "1          9.0      25.0   456.0    44.0           1.0  \n",
       "2       1206.0       0.0  1273.0    49.0           0.0  \n",
       "3        806.0     332.0  1132.0   187.0           0.0  \n",
       "4         69.0     149.0   470.0     2.0           1.0  "
      ]
     },
     "execution_count": 20,
     "metadata": {},
     "output_type": "execute_result"
    }
   ],
   "source": [
    "encoder = OrdinalEncoder()\n",
    "data = pd.DataFrame(encoder.fit_transform(data), columns=data.columns)\n",
    "data.head()\n"
   ]
  },
  {
   "cell_type": "code",
   "execution_count": 21,
   "id": "20fb6c7d",
   "metadata": {},
   "outputs": [
    {
     "data": {
      "text/html": [
       "<div>\n",
       "<style scoped>\n",
       "    .dataframe tbody tr th:only-of-type {\n",
       "        vertical-align: middle;\n",
       "    }\n",
       "\n",
       "    .dataframe tbody tr th {\n",
       "        vertical-align: top;\n",
       "    }\n",
       "\n",
       "    .dataframe thead th {\n",
       "        text-align: right;\n",
       "    }\n",
       "</style>\n",
       "<table border=\"1\" class=\"dataframe\">\n",
       "  <thead>\n",
       "    <tr style=\"text-align: right;\">\n",
       "      <th></th>\n",
       "      <th>Planeta_Casa</th>\n",
       "      <th>Camara_Dormir</th>\n",
       "      <th>Destino</th>\n",
       "      <th>Idade</th>\n",
       "      <th>VIP</th>\n",
       "      <th>Servico_Quarto</th>\n",
       "      <th>Alimentacao</th>\n",
       "      <th>Shopping</th>\n",
       "      <th>Spa</th>\n",
       "      <th>VRDeck</th>\n",
       "      <th>Transportado</th>\n",
       "    </tr>\n",
       "  </thead>\n",
       "  <tbody>\n",
       "    <tr>\n",
       "      <th>0</th>\n",
       "      <td>1.0</td>\n",
       "      <td>0</td>\n",
       "      <td>3.0</td>\n",
       "      <td>40.0</td>\n",
       "      <td>0</td>\n",
       "      <td>0.0</td>\n",
       "      <td>0.0</td>\n",
       "      <td>0.0</td>\n",
       "      <td>0.0</td>\n",
       "      <td>0.0</td>\n",
       "      <td>0</td>\n",
       "    </tr>\n",
       "    <tr>\n",
       "      <th>1</th>\n",
       "      <td>0.0</td>\n",
       "      <td>0</td>\n",
       "      <td>3.0</td>\n",
       "      <td>24.0</td>\n",
       "      <td>0</td>\n",
       "      <td>109.0</td>\n",
       "      <td>9.0</td>\n",
       "      <td>25.0</td>\n",
       "      <td>456.0</td>\n",
       "      <td>44.0</td>\n",
       "      <td>1</td>\n",
       "    </tr>\n",
       "    <tr>\n",
       "      <th>2</th>\n",
       "      <td>1.0</td>\n",
       "      <td>0</td>\n",
       "      <td>3.0</td>\n",
       "      <td>59.0</td>\n",
       "      <td>1</td>\n",
       "      <td>43.0</td>\n",
       "      <td>1206.0</td>\n",
       "      <td>0.0</td>\n",
       "      <td>1273.0</td>\n",
       "      <td>49.0</td>\n",
       "      <td>0</td>\n",
       "    </tr>\n",
       "    <tr>\n",
       "      <th>3</th>\n",
       "      <td>1.0</td>\n",
       "      <td>0</td>\n",
       "      <td>3.0</td>\n",
       "      <td>34.0</td>\n",
       "      <td>0</td>\n",
       "      <td>0.0</td>\n",
       "      <td>806.0</td>\n",
       "      <td>332.0</td>\n",
       "      <td>1132.0</td>\n",
       "      <td>187.0</td>\n",
       "      <td>0</td>\n",
       "    </tr>\n",
       "    <tr>\n",
       "      <th>4</th>\n",
       "      <td>0.0</td>\n",
       "      <td>0</td>\n",
       "      <td>3.0</td>\n",
       "      <td>16.0</td>\n",
       "      <td>0</td>\n",
       "      <td>277.0</td>\n",
       "      <td>69.0</td>\n",
       "      <td>149.0</td>\n",
       "      <td>470.0</td>\n",
       "      <td>2.0</td>\n",
       "      <td>1</td>\n",
       "    </tr>\n",
       "  </tbody>\n",
       "</table>\n",
       "</div>"
      ],
      "text/plain": [
       "   Planeta_Casa  Camara_Dormir  Destino  Idade  VIP  Servico_Quarto  \\\n",
       "0           1.0              0      3.0   40.0    0             0.0   \n",
       "1           0.0              0      3.0   24.0    0           109.0   \n",
       "2           1.0              0      3.0   59.0    1            43.0   \n",
       "3           1.0              0      3.0   34.0    0             0.0   \n",
       "4           0.0              0      3.0   16.0    0           277.0   \n",
       "\n",
       "   Alimentacao  Shopping     Spa  VRDeck  Transportado  \n",
       "0          0.0       0.0     0.0     0.0             0  \n",
       "1          9.0      25.0   456.0    44.0             1  \n",
       "2       1206.0       0.0  1273.0    49.0             0  \n",
       "3        806.0     332.0  1132.0   187.0             0  \n",
       "4         69.0     149.0   470.0     2.0             1  "
      ]
     },
     "execution_count": 21,
     "metadata": {},
     "output_type": "execute_result"
    }
   ],
   "source": [
    "data['Camara_Dormir'] = data['Camara_Dormir'].astype(int)\n",
    "data['VIP'] = data['VIP'].astype(int)\n",
    "data['Transportado'] = data['Transportado'].astype(int)\n",
    "data.head()"
   ]
  },
  {
   "cell_type": "code",
   "execution_count": 22,
   "id": "17425883",
   "metadata": {},
   "outputs": [
    {
     "data": {
      "image/png": "[encoded data removed]",
      "text/plain": [
       "<Figure size 1200x800 with 2 Axes>"
      ]
     },
     "metadata": {},
     "output_type": "display_data"
    }
   ],
   "source": [
    "# Correlation matrix\n",
    "corr = data.corr()\n",
    "\n",
    "# Plotting the correlation matrix\n",
    "plt.figure(figsize=(12, 8))\n",
    "sns.heatmap(corr, annot=True, cmap='coolwarm', center=0)\n",
    "plt.title('Correlation Matrix of the Training Data')\n",
    "plt.show()"
   ]
  },
  {
   "cell_type": "markdown",
   "id": "ccc5ea24",
   "metadata": {},
   "source": [
    "Analisando o mapa de correlação, identificamos uma relação significativa entre os passageiros transportados e as variáveis de \"planeta_casa\" e \"camara para dormir\"."
   ]
  },
  {
   "cell_type": "markdown",
   "id": "52335195",
   "metadata": {},
   "source": [
    "### Separando dados para treinamento "
   ]
  },
  {
   "cell_type": "code",
   "execution_count": 23,
   "id": "6d17ff76",
   "metadata": {},
   "outputs": [],
   "source": [
    "X = data.drop('Transportado',axis = 1)\n",
    "y = data.Transportado\n",
    "\n",
    "X_train, X_val, y_train, y_val = train_test_split(X, y, random_state = 50, test_size=0.30)"
   ]
  },
  {
   "cell_type": "code",
   "execution_count": 24,
   "id": "c1e3383f",
   "metadata": {},
   "outputs": [
    {
     "data": {
      "text/plain": [
       "array([[-0.81954067, -0.77029153,  0.62416145, ..., -0.43614003,\n",
       "        -0.45297755, -0.45507056],\n",
       "       [-0.81954067, -0.77029153,  0.62416145, ...,  3.68971379,\n",
       "        -0.45297755, -0.45507056],\n",
       "       [-0.81954067,  1.29820978, -1.84155316, ..., -0.43614003,\n",
       "        -0.45297755, -0.45507056],\n",
       "       ...,\n",
       "       [-0.81954067, -0.77029153, -0.19774342, ..., -0.43614003,\n",
       "        -0.45297755, -0.45507056],\n",
       "       [-0.81954067, -0.77029153, -0.19774342, ...,  0.6180611 ,\n",
       "        -0.45297755,  0.26212461],\n",
       "       [ 0.43471108, -0.77029153,  0.62416145, ..., -0.41960354,\n",
       "        -0.42916285,  0.78967683]])"
      ]
     },
     "execution_count": 24,
     "metadata": {},
     "output_type": "execute_result"
    }
   ],
   "source": [
    "# normalizando as features\n",
    "norm = StandardScaler()\n",
    "X_train = norm.fit_transform(X_train)\n",
    "X_train"
   ]
  },
  {
   "cell_type": "code",
   "execution_count": 25,
   "id": "318e7fa5",
   "metadata": {},
   "outputs": [
    {
     "data": {
      "text/plain": [
       "0    3056\n",
       "1    3029\n",
       "Name: Transportado, dtype: int64"
      ]
     },
     "execution_count": 25,
     "metadata": {},
     "output_type": "execute_result"
    }
   ],
   "source": [
    "# verificando o balanceamento da classe\n",
    "y_train.value_counts()"
   ]
  },
  {
   "cell_type": "markdown",
   "id": "3b9c2cca",
   "metadata": {},
   "source": [
    "Durante esta etapa, executamos três processos cruciais. Primeiro, dividimos os dados em conjuntos de treinamento e validação, preparando-os para o treinamento dos modelos. Em seguida, normalizamos as escalas das características, otimizando a precisão dos estimadores. Por fim, equilibramos as classes do nosso alvo, criando um ambiente mais equitativo e eficaz para a análise."
   ]
  },
  {
   "cell_type": "markdown",
   "id": "263b7d34",
   "metadata": {},
   "source": [
    "### Treinando Modelo"
   ]
  },
  {
   "cell_type": "markdown",
   "id": "2d3891af",
   "metadata": {},
   "source": [
    "#### KNeighborsClassifier"
   ]
  },
  {
   "cell_type": "code",
   "execution_count": 26,
   "id": "2c5d39f3",
   "metadata": {},
   "outputs": [
    {
     "name": "stdout",
     "output_type": "stream",
     "text": [
      "Verificando a acurácia KNN:  \n"
     ]
    },
    {
     "data": {
      "text/plain": [
       "0.6039110429447853"
      ]
     },
     "execution_count": 26,
     "metadata": {},
     "output_type": "execute_result"
    }
   ],
   "source": [
    "knn = KNeighborsClassifier()\n",
    "knn.fit(X_train,y_train)\n",
    "knn_pred = knn.predict(X_val)\n",
    "\n",
    "print('Verificando a acurácia KNN:  ')\n",
    "accuracy_score(y_val,knn_pred)"
   ]
  },
  {
   "cell_type": "markdown",
   "id": "41f1e769",
   "metadata": {},
   "source": [
    "#### BernoulliNB"
   ]
  },
  {
   "cell_type": "code",
   "execution_count": 27,
   "id": "056968d3",
   "metadata": {},
   "outputs": [
    {
     "name": "stdout",
     "output_type": "stream",
     "text": [
      "Verificando a acurácia BernoulliNB :  \n"
     ]
    },
    {
     "data": {
      "text/plain": [
       "0.7273773006134969"
      ]
     },
     "execution_count": 27,
     "metadata": {},
     "output_type": "execute_result"
    }
   ],
   "source": [
    "bnb = BernoulliNB()\n",
    "bnb.fit(X_train, y_train)\n",
    "bnb_pred = bnb.predict(X_val)\n",
    "\n",
    "print('Verificando a acurácia BernoulliNB :  ')\n",
    "accuracy_score(y_val,bnb_pred)"
   ]
  },
  {
   "cell_type": "markdown",
   "id": "0a482e89",
   "metadata": {},
   "source": [
    "#### DecisionTreeClassifier"
   ]
  },
  {
   "cell_type": "code",
   "execution_count": 28,
   "id": "78ce0790",
   "metadata": {},
   "outputs": [
    {
     "name": "stdout",
     "output_type": "stream",
     "text": [
      "Verificando a acurácia DecisionTreeClassifier :  \n"
     ]
    },
    {
     "data": {
      "text/plain": [
       "0.3811349693251534"
      ]
     },
     "execution_count": 28,
     "metadata": {},
     "output_type": "execute_result"
    }
   ],
   "source": [
    "dt = DecisionTreeClassifier(random_state=50)\n",
    "dt.fit(X_train, y_train)\n",
    "dt_pred = dt.predict(X_val)\n",
    "\n",
    "print('Verificando a acurácia DecisionTreeClassifier :  ')\n",
    "accuracy_score(y_val,dt_pred)"
   ]
  },
  {
   "cell_type": "markdown",
   "id": "a04cee99",
   "metadata": {},
   "source": [
    "#### SVC"
   ]
  },
  {
   "cell_type": "code",
   "execution_count": 29,
   "id": "86fa0e51",
   "metadata": {},
   "outputs": [
    {
     "name": "stdout",
     "output_type": "stream",
     "text": [
      "Verificando a acurácia DecisionTreeClassifier :  \n"
     ]
    },
    {
     "data": {
      "text/plain": [
       "0.48773006134969327"
      ]
     },
     "execution_count": 29,
     "metadata": {},
     "output_type": "execute_result"
    }
   ],
   "source": [
    "svc = SVC()\n",
    "svc.fit(X_train, y_train)\n",
    "svc_pred = svc.predict(X_val)\n",
    "\n",
    "print('Verificando a acurácia DecisionTreeClassifier :  ')\n",
    "accuracy_score(y_val,svc_pred)"
   ]
  },
  {
   "cell_type": "markdown",
   "id": "8a375a77",
   "metadata": {},
   "source": [
    "#### RandomForestClassifier"
   ]
  },
  {
   "cell_type": "code",
   "execution_count": 30,
   "id": "80d336fa",
   "metadata": {},
   "outputs": [
    {
     "name": "stdout",
     "output_type": "stream",
     "text": [
      "Verificando a acurácia DecisionTreeClassifier :  \n"
     ]
    },
    {
     "data": {
      "text/plain": [
       "0.48964723926380366"
      ]
     },
     "execution_count": 30,
     "metadata": {},
     "output_type": "execute_result"
    }
   ],
   "source": [
    "rfc = RandomForestClassifier(random_state=50)\n",
    "rfc.fit(X_train, y_train)\n",
    "rfc_pred = rfc.predict(X_val)\n",
    "\n",
    "print('Verificando a acurácia DecisionTreeClassifier :  ')\n",
    "accuracy_score(y_val,rfc_pred)"
   ]
  },
  {
   "cell_type": "markdown",
   "id": "57eaba57",
   "metadata": {},
   "source": [
    "### Parte 2 - Analise Exploratória de Dados"
   ]
  },
  {
   "cell_type": "code",
   "execution_count": 31,
   "id": "e1414eb2",
   "metadata": {},
   "outputs": [
    {
     "data": {
      "image/png": "[encoded data removed]",
      "text/plain": [
       "<Figure size 800x600 with 2 Axes>"
      ]
     },
     "metadata": {},
     "output_type": "display_data"
    }
   ],
   "source": [
    "# Correlation matrix\n",
    "corr = data.corr()\n",
    "\n",
    "# Plotting the correlation matrix\n",
    "plt.figure(figsize=(8, 6))\n",
    "sns.heatmap(corr, annot=True, cmap='coolwarm', center=0)\n",
    "plt.title('Correlation Matrix of the Training Data')\n",
    "plt.show()"
   ]
  },
  {
   "cell_type": "code",
   "execution_count": 32,
   "id": "f08fd6a4",
   "metadata": {},
   "outputs": [
    {
     "data": {
      "text/html": [
       "<div>\n",
       "<style scoped>\n",
       "    .dataframe tbody tr th:only-of-type {\n",
       "        vertical-align: middle;\n",
       "    }\n",
       "\n",
       "    .dataframe tbody tr th {\n",
       "        vertical-align: top;\n",
       "    }\n",
       "\n",
       "    .dataframe thead th {\n",
       "        text-align: right;\n",
       "    }\n",
       "</style>\n",
       "<table border=\"1\" class=\"dataframe\">\n",
       "  <thead>\n",
       "    <tr style=\"text-align: right;\">\n",
       "      <th></th>\n",
       "      <th>Planeta_Casa</th>\n",
       "      <th>Camara_Dormir</th>\n",
       "      <th>Destino</th>\n",
       "      <th>Idade</th>\n",
       "      <th>VIP</th>\n",
       "      <th>Servico_Quarto</th>\n",
       "      <th>Alimentacao</th>\n",
       "      <th>Shopping</th>\n",
       "      <th>Spa</th>\n",
       "      <th>VRDeck</th>\n",
       "      <th>Transportado</th>\n",
       "    </tr>\n",
       "  </thead>\n",
       "  <tbody>\n",
       "    <tr>\n",
       "      <th>0</th>\n",
       "      <td>1.0</td>\n",
       "      <td>0</td>\n",
       "      <td>3.0</td>\n",
       "      <td>40.0</td>\n",
       "      <td>0</td>\n",
       "      <td>0.0</td>\n",
       "      <td>0.0</td>\n",
       "      <td>0.0</td>\n",
       "      <td>0.0</td>\n",
       "      <td>0.0</td>\n",
       "      <td>0</td>\n",
       "    </tr>\n",
       "    <tr>\n",
       "      <th>1</th>\n",
       "      <td>0.0</td>\n",
       "      <td>0</td>\n",
       "      <td>3.0</td>\n",
       "      <td>24.0</td>\n",
       "      <td>0</td>\n",
       "      <td>109.0</td>\n",
       "      <td>9.0</td>\n",
       "      <td>25.0</td>\n",
       "      <td>456.0</td>\n",
       "      <td>44.0</td>\n",
       "      <td>1</td>\n",
       "    </tr>\n",
       "  </tbody>\n",
       "</table>\n",
       "</div>"
      ],
      "text/plain": [
       "   Planeta_Casa  Camara_Dormir  Destino  Idade  VIP  Servico_Quarto  \\\n",
       "0           1.0              0      3.0   40.0    0             0.0   \n",
       "1           0.0              0      3.0   24.0    0           109.0   \n",
       "\n",
       "   Alimentacao  Shopping    Spa  VRDeck  Transportado  \n",
       "0          0.0       0.0    0.0     0.0             0  \n",
       "1          9.0      25.0  456.0    44.0             1  "
      ]
     },
     "execution_count": 32,
     "metadata": {},
     "output_type": "execute_result"
    }
   ],
   "source": [
    "data.head(2)"
   ]
  },
  {
   "cell_type": "code",
   "execution_count": 33,
   "id": "ba8f3dc4",
   "metadata": {},
   "outputs": [
    {
     "data": {
      "text/html": [
       "<div>\n",
       "<style scoped>\n",
       "    .dataframe tbody tr th:only-of-type {\n",
       "        vertical-align: middle;\n",
       "    }\n",
       "\n",
       "    .dataframe tbody tr th {\n",
       "        vertical-align: top;\n",
       "    }\n",
       "\n",
       "    .dataframe thead th {\n",
       "        text-align: right;\n",
       "    }\n",
       "</style>\n",
       "<table border=\"1\" class=\"dataframe\">\n",
       "  <thead>\n",
       "    <tr style=\"text-align: right;\">\n",
       "      <th></th>\n",
       "      <th>Planeta_Casa</th>\n",
       "      <th>Camara_Dormir</th>\n",
       "      <th>Idade</th>\n",
       "      <th>VIP</th>\n",
       "      <th>Alimentacao</th>\n",
       "      <th>Shopping</th>\n",
       "    </tr>\n",
       "  </thead>\n",
       "  <tbody>\n",
       "    <tr>\n",
       "      <th>0</th>\n",
       "      <td>1.0</td>\n",
       "      <td>0</td>\n",
       "      <td>40.0</td>\n",
       "      <td>0</td>\n",
       "      <td>0.0</td>\n",
       "      <td>0.0</td>\n",
       "    </tr>\n",
       "    <tr>\n",
       "      <th>1</th>\n",
       "      <td>0.0</td>\n",
       "      <td>0</td>\n",
       "      <td>24.0</td>\n",
       "      <td>0</td>\n",
       "      <td>9.0</td>\n",
       "      <td>25.0</td>\n",
       "    </tr>\n",
       "  </tbody>\n",
       "</table>\n",
       "</div>"
      ],
      "text/plain": [
       "   Planeta_Casa  Camara_Dormir  Idade  VIP  Alimentacao  Shopping\n",
       "0           1.0              0   40.0    0          0.0       0.0\n",
       "1           0.0              0   24.0    0          9.0      25.0"
      ]
     },
     "execution_count": 33,
     "metadata": {},
     "output_type": "execute_result"
    }
   ],
   "source": [
    "data_02 = data.drop(columns = ['VRDeck','Spa','Servico_Quarto','Destino','Transportado'])\n",
    "data_02.head(2)"
   ]
  },
  {
   "cell_type": "code",
   "execution_count": 34,
   "id": "6b5f2a56",
   "metadata": {},
   "outputs": [],
   "source": [
    "## Separando os dados de treinamento e validação sem feature de menores relatividade com transportado\n",
    "\n",
    "X = data_02\n",
    "y = data.Transportado\n",
    "\n",
    "X_train, X_val, y_train, y_val = train_test_split(X, y, random_state = 50, test_size=0.30)                                    \n"
   ]
  },
  {
   "cell_type": "markdown",
   "id": "54788170",
   "metadata": {},
   "source": [
    "### Parte 2 Treinando Modelos"
   ]
  },
  {
   "cell_type": "code",
   "execution_count": 35,
   "id": "530c7436",
   "metadata": {},
   "outputs": [
    {
     "name": "stdout",
     "output_type": "stream",
     "text": [
      "Verificando a acurácia KNN:  \n"
     ]
    },
    {
     "data": {
      "text/plain": [
       "0.7239263803680982"
      ]
     },
     "execution_count": 35,
     "metadata": {},
     "output_type": "execute_result"
    }
   ],
   "source": [
    "#KNN\n",
    "knn = KNeighborsClassifier()\n",
    "knn.fit(X_train,y_train)\n",
    "knn_pred = knn.predict(X_val)\n",
    "\n",
    "print('Verificando a acurácia KNN:  ')\n",
    "accuracy_score(y_val,knn_pred)"
   ]
  },
  {
   "cell_type": "code",
   "execution_count": 36,
   "id": "3c9004af",
   "metadata": {},
   "outputs": [
    {
     "name": "stdout",
     "output_type": "stream",
     "text": [
      "Verificando a acurácia BernoulliNB :  \n"
     ]
    },
    {
     "data": {
      "text/plain": [
       "0.718941717791411"
      ]
     },
     "execution_count": 36,
     "metadata": {},
     "output_type": "execute_result"
    }
   ],
   "source": [
    "#bnb\n",
    "bnb = BernoulliNB()\n",
    "bnb.fit(X_train, y_train)\n",
    "bnb_pred = bnb.predict(X_val)\n",
    "\n",
    "print('Verificando a acurácia BernoulliNB :  ')\n",
    "accuracy_score(y_val,bnb_pred)"
   ]
  },
  {
   "cell_type": "code",
   "execution_count": 37,
   "id": "ab9f4ad2",
   "metadata": {},
   "outputs": [
    {
     "name": "stdout",
     "output_type": "stream",
     "text": [
      "Verificando a acurácia DecisionTreeClassifier :  \n"
     ]
    },
    {
     "data": {
      "text/plain": [
       "0.714340490797546"
      ]
     },
     "execution_count": 37,
     "metadata": {},
     "output_type": "execute_result"
    }
   ],
   "source": [
    "#dt\n",
    "dt = DecisionTreeClassifier(random_state=50)\n",
    "dt.fit(X_train, y_train)\n",
    "dt_pred = dt.predict(X_val)\n",
    "\n",
    "print('Verificando a acurácia DecisionTreeClassifier :  ')\n",
    "accuracy_score(y_val,dt_pred)"
   ]
  },
  {
   "cell_type": "code",
   "execution_count": 38,
   "id": "4a75352e",
   "metadata": {},
   "outputs": [
    {
     "name": "stdout",
     "output_type": "stream",
     "text": [
      "Verificando a acurácia SVM :  \n"
     ]
    },
    {
     "data": {
      "text/plain": [
       "0.629217791411043"
      ]
     },
     "execution_count": 38,
     "metadata": {},
     "output_type": "execute_result"
    }
   ],
   "source": [
    "#svc\n",
    "svc = SVC()\n",
    "svc.fit(X_train, y_train)\n",
    "svc_pred = svc.predict(X_val)\n",
    "\n",
    "print('Verificando a acurácia SVM :  ')\n",
    "accuracy_score(y_val,svc_pred)"
   ]
  },
  {
   "cell_type": "code",
   "execution_count": 39,
   "id": "764997c0",
   "metadata": {},
   "outputs": [
    {
     "name": "stdout",
     "output_type": "stream",
     "text": [
      "Verificando a acurácia RandomForestClassifier :  \n"
     ]
    },
    {
     "data": {
      "text/plain": [
       "0.7331288343558282"
      ]
     },
     "execution_count": 39,
     "metadata": {},
     "output_type": "execute_result"
    }
   ],
   "source": [
    "#rfc\n",
    "rfc = RandomForestClassifier(random_state=50)\n",
    "rfc.fit(X_train, y_train)\n",
    "rfc_pred = rfc.predict(X_val)\n",
    "\n",
    "print('Verificando a acurácia RandomForestClassifier :  ')\n",
    "accuracy_score(y_val,rfc_pred)"
   ]
  },
  {
   "cell_type": "markdown",
   "id": "53c42801",
   "metadata": {},
   "source": [
    "#### Conclusão Intermediária\n",
    "Após a conclusão deste teste, fica evidente que a validação apresentou um desempenho superior. Isso foi possível ao remover as características que mostraram correlações negativas com o alvo. Além disso, identificamos que o modelo mais eficaz foi o RandomForestClassifier. Na próxima fase, vamos aprofundar nossa análise ao explorar e ajustar os hiperparâmetros para alcançar um nível ainda mais otimizado de desempenho do modelo."
   ]
  },
  {
   "cell_type": "markdown",
   "id": "74061460",
   "metadata": {},
   "source": [
    "### Ajustando Parametros"
   ]
  },
  {
   "cell_type": "code",
   "execution_count": 40,
   "id": "516ee076",
   "metadata": {},
   "outputs": [],
   "source": [
    "# Random Florest\n",
    "n_estimator_list = [5, 8, 13, 21, 34, 55, 89, 144, 233, 377, 610]\n",
    "\n",
    "def n_estimator(X_train,X_val, y_train, y_val):\n",
    "    results = {}\n",
    "    for n_estimator in n_estimator_list:\n",
    "        rfc = RandomForestClassifier(random_state=50, n_estimators=n_estimator)\n",
    "        rfc.fit(X_train, y_train)\n",
    "        rfc_pred = rfc.predict(X_val)\n",
    "        acuracia  = accuracy_score(y_val,rfc_pred)\n",
    "        results[n_estimator] = acuracia\n",
    "    return results"
   ]
  },
  {
   "cell_type": "code",
   "execution_count": 41,
   "id": "f214de1c",
   "metadata": {},
   "outputs": [
    {
     "data": {
      "text/plain": [
       "{5: 0.7285276073619632,\n",
       " 8: 0.7296779141104295,\n",
       " 13: 0.7323619631901841,\n",
       " 21: 0.7335122699386503,\n",
       " 34: 0.7346625766871165,\n",
       " 55: 0.7335122699386503,\n",
       " 89: 0.7358128834355828,\n",
       " 144: 0.7315950920245399,\n",
       " 233: 0.7315950920245399,\n",
       " 377: 0.7289110429447853,\n",
       " 610: 0.7300613496932515}"
      ]
     },
     "execution_count": 41,
     "metadata": {},
     "output_type": "execute_result"
    }
   ],
   "source": [
    "n_estimator(X_train,X_val, y_train, y_val)"
   ]
  },
  {
   "cell_type": "markdown",
   "id": "0b8acd14",
   "metadata": {},
   "source": [
    "### Best Model"
   ]
  },
  {
   "cell_type": "code",
   "execution_count": 42,
   "id": "e4c9ebac",
   "metadata": {},
   "outputs": [
    {
     "name": "stdout",
     "output_type": "stream",
     "text": [
      "Verificando a acurácia RandomForestClassifier :  \n"
     ]
    },
    {
     "data": {
      "text/plain": [
       "0.7358128834355828"
      ]
     },
     "execution_count": 42,
     "metadata": {},
     "output_type": "execute_result"
    }
   ],
   "source": [
    "#rfc\n",
    "rfc = RandomForestClassifier(random_state=50 , n_estimators = 89)\n",
    "rfc.fit(X_train, y_train)\n",
    "rfc_pred = rfc.predict(X_val)\n",
    "\n",
    "print('Verificando a acurácia RandomForestClassifier :  ')\n",
    "accuracy_score(y_val,rfc_pred)"
   ]
  },
  {
   "cell_type": "markdown",
   "id": "bc8281d4",
   "metadata": {},
   "source": [
    "### Conclusão Geral\n",
    "\n",
    "Após a conclusão de todas as etapas utilizando o modelo mais eficaz, o RandomForestClassifier, alcançamos uma acurácia de 73%. Durante a otimização do modelo, observamos uma ligeira melhoria ao remover as características de menor relevância.\n",
    "\n",
    "No contexto da análise exploratória, não foram identificados padrões evidentes com associações diretas. No entanto, a exploração do mapa de correlação proporcionou algumas perspectivas interessantes. Ao incluir todas as características, inclusive as de menor correlação, experimentamos uma melhoria no desempenho geral do modelo. Isso demonstra a importância de considerar diferentes ângulos e abordagens ao desenvolver e aprimorar nossos modelos preditivos."
   ]
  },
  {
   "cell_type": "code",
   "execution_count": null,
   "id": "c40238f0",
   "metadata": {},
   "outputs": [],
   "source": []
  }
 ],
 "metadata": {
  "kernelspec": {
   "display_name": "Python 3 (ipykernel)",
   "language": "python",
   "name": "python3"
  },
  "language_info": {
   "codemirror_mode": {
    "name": "ipython",
    "version": 3
   },
   "file_extension": ".py",
   "mimetype": "text/x-python",
   "name": "python",
   "nbconvert_exporter": "python",
   "pygments_lexer": "ipython3",
   "version": "3.11.3"
  }
 },
 "nbformat": 4,
 "nbformat_minor": 5
}
